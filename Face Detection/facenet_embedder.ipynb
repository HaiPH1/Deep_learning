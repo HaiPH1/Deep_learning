{
 "cells": [
  {
   "cell_type": "code",
   "execution_count": 13,
   "id": "2e2d7fb2",
   "metadata": {},
   "outputs": [
    {
     "name": "stdout",
     "output_type": "stream",
     "text": [
      " FaceNet model loaded.\n",
      "\u001b[1m1/1\u001b[0m \u001b[32m━━━━━━━━━━━━━━━━━━━━\u001b[0m\u001b[37m\u001b[0m \u001b[1m3s\u001b[0m 3s/step\n",
      "\u001b[1m1/1\u001b[0m \u001b[32m━━━━━━━━━━━━━━━━━━━━\u001b[0m\u001b[37m\u001b[0m \u001b[1m0s\u001b[0m 65ms/step\n",
      "\u001b[1m1/1\u001b[0m \u001b[32m━━━━━━━━━━━━━━━━━━━━\u001b[0m\u001b[37m\u001b[0m \u001b[1m0s\u001b[0m 85ms/step\n",
      "\u001b[1m1/1\u001b[0m \u001b[32m━━━━━━━━━━━━━━━━━━━━\u001b[0m\u001b[37m\u001b[0m \u001b[1m0s\u001b[0m 83ms/step\n",
      "\u001b[1m1/1\u001b[0m \u001b[32m━━━━━━━━━━━━━━━━━━━━\u001b[0m\u001b[37m\u001b[0m \u001b[1m0s\u001b[0m 88ms/step\n",
      "\u001b[1m1/1\u001b[0m \u001b[32m━━━━━━━━━━━━━━━━━━━━\u001b[0m\u001b[37m\u001b[0m \u001b[1m0s\u001b[0m 83ms/step\n",
      "\u001b[1m1/1\u001b[0m \u001b[32m━━━━━━━━━━━━━━━━━━━━\u001b[0m\u001b[37m\u001b[0m \u001b[1m0s\u001b[0m 63ms/step\n",
      " Đã lưu: Face_Data/embeddings\\J97.npy\n",
      "\u001b[1m1/1\u001b[0m \u001b[32m━━━━━━━━━━━━━━━━━━━━\u001b[0m\u001b[37m\u001b[0m \u001b[1m0s\u001b[0m 66ms/step\n",
      "\u001b[1m1/1\u001b[0m \u001b[32m━━━━━━━━━━━━━━━━━━━━\u001b[0m\u001b[37m\u001b[0m \u001b[1m0s\u001b[0m 69ms/step\n",
      "\u001b[1m1/1\u001b[0m \u001b[32m━━━━━━━━━━━━━━━━━━━━\u001b[0m\u001b[37m\u001b[0m \u001b[1m0s\u001b[0m 75ms/step\n",
      "\u001b[1m1/1\u001b[0m \u001b[32m━━━━━━━━━━━━━━━━━━━━\u001b[0m\u001b[37m\u001b[0m \u001b[1m0s\u001b[0m 67ms/step\n",
      "\u001b[1m1/1\u001b[0m \u001b[32m━━━━━━━━━━━━━━━━━━━━\u001b[0m\u001b[37m\u001b[0m \u001b[1m0s\u001b[0m 70ms/step\n",
      "\u001b[1m1/1\u001b[0m \u001b[32m━━━━━━━━━━━━━━━━━━━━\u001b[0m\u001b[37m\u001b[0m \u001b[1m0s\u001b[0m 80ms/step\n",
      "\u001b[1m1/1\u001b[0m \u001b[32m━━━━━━━━━━━━━━━━━━━━\u001b[0m\u001b[37m\u001b[0m \u001b[1m0s\u001b[0m 68ms/step\n",
      " Đã lưu: Face_Data/embeddings\\MTP.npy\n",
      "\n",
      " Đã tạo xong toàn bộ embeddings.\n"
     ]
    }
   ],
   "source": [
    "import os\n",
    "import cv2\n",
    "import numpy as np\n",
    "from keras_facenet import FaceNet\n",
    "\n",
    "# Khởi tạo embedder\n",
    "embedder = FaceNet()\n",
    "print(\" FaceNet model loaded.\")\n",
    "\n",
    "# Thư mục dữ liệu\n",
    "PROCESSED_DIR = \"Face_Data/processed\"\n",
    "EMBEDDING_DIR = \"Face_Data/embeddings\"\n",
    "os.makedirs(EMBEDDING_DIR, exist_ok=True)\n",
    "\n",
    "def get_embedding(img_path):\n",
    "    img = cv2.imread(img_path)\n",
    "    if img is None:\n",
    "        print(f\"⚠️ Không đọc được ảnh: {img_path}\")\n",
    "        return None\n",
    "    try:\n",
    "        img = cv2.resize(img, (160, 160))\n",
    "        img = cv2.cvtColor(img, cv2.COLOR_BGR2RGB)\n",
    "        embedding = embedder.embeddings([img])[0]\n",
    "        return embedding\n",
    "    except Exception as e:\n",
    "        print(f\" Lỗi xử lý ảnh {img_path}: {e}\")\n",
    "        return None\n",
    "\n",
    "\n",
    "for person_name in os.listdir(PROCESSED_DIR):\n",
    "    person_folder = os.path.join(PROCESSED_DIR, person_name)\n",
    "    if not os.path.isdir(person_folder):\n",
    "        continue\n",
    "\n",
    "    embeddings = []\n",
    "    for img_name in os.listdir(person_folder):\n",
    "        img_path = os.path.join(person_folder, img_name)\n",
    "        emb = get_embedding(img_path)\n",
    "        if emb is not None:\n",
    "            embeddings.append(emb)\n",
    "\n",
    "    # Lưu embedding trung bình\n",
    "    if embeddings:\n",
    "        mean_embedding = np.mean(embeddings, axis=0)\n",
    "        output_path = os.path.join(EMBEDDING_DIR, f\"{person_name}.npy\")\n",
    "        np.save(output_path, mean_embedding)\n",
    "        print(f\" Đã lưu: {output_path}\")\n",
    "    else:\n",
    "        print(f\" Không có embedding hợp lệ cho: {person_name}\")\n",
    "\n",
    "print(\"\\n Đã tạo xong toàn bộ embeddings.\")\n"
   ]
  },
  {
   "cell_type": "code",
   "execution_count": null,
   "id": "e6d0624b",
   "metadata": {},
   "outputs": [],
   "source": []
  }
 ],
 "metadata": {
  "kernelspec": {
   "display_name": "Python 3",
   "language": "python",
   "name": "python3"
  },
  "language_info": {
   "codemirror_mode": {
    "name": "ipython",
    "version": 3
   },
   "file_extension": ".py",
   "mimetype": "text/x-python",
   "name": "python",
   "nbconvert_exporter": "python",
   "pygments_lexer": "ipython3",
   "version": "3.10.9"
  }
 },
 "nbformat": 4,
 "nbformat_minor": 5
}
