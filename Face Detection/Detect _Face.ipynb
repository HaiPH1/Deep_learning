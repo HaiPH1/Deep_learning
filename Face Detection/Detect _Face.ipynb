{
 "cells": [
  {
   "cell_type": "code",
   "execution_count": null,
   "id": "06fff465",
   "metadata": {},
   "outputs": [
    {
     "name": "stdout",
     "output_type": "stream",
     "text": [
      "✅ Lưu: Face_Data/processed\\J97\\b1_0.jpg\n",
      "✅ Lưu: Face_Data/processed\\J97\\b2_0.jpg\n",
      "✅ Lưu: Face_Data/processed\\J97\\b3_0.jpg\n",
      "✅ Lưu: Face_Data/processed\\J97\\b4_0.jpg\n",
      "✅ Lưu: Face_Data/processed\\J97\\b5_0.jpg\n",
      "✅ Lưu: Face_Data/processed\\J97\\b6_0.jpg\n",
      "✅ Lưu: Face_Data/processed\\J97\\b7_0.jpg\n",
      "✅ Lưu: Face_Data/processed\\MTP\\a1_0.jpg\n",
      "✅ Lưu: Face_Data/processed\\MTP\\a2_0.jpg\n",
      "✅ Lưu: Face_Data/processed\\MTP\\a3_0.jpg\n",
      "✅ Lưu: Face_Data/processed\\MTP\\a4_0.jpg\n",
      "✅ Lưu: Face_Data/processed\\MTP\\a4_1.jpg\n",
      "✅ Lưu: Face_Data/processed\\MTP\\a4_2.jpg\n",
      "✅ Lưu: Face_Data/processed\\MTP\\a5_0.jpg\n",
      "✅ Lưu: Face_Data/processed\\MTP\\a6_0.jpg\n",
      "✅ Lưu: Face_Data/processed\\MTP\\a7_0.jpg\n",
      "✅ Lưu: Face_Data/processed\\MTP\\a7_1.jpg\n"
     ]
    }
   ],
   "source": [
    "import os\n",
    "import cv2\n",
    "from ultralytics import YOLO\n",
    "\n",
    "# Load YOLOv8n-face model\n",
    "model = YOLO(\"Model/yolov8n-face.pt\")\n",
    "\n",
    "# Đường dẫn thư mục dữ liệu\n",
    "input_dir = \"Face_Data/raw\"\n",
    "output_dir = \"Face_Data/processed\"\n",
    "\n",
    "# Duyệt qua từng người \n",
    "for person_name in os.listdir(input_dir):\n",
    "    person_path = os.path.join(input_dir, person_name)\n",
    "    if not os.path.isdir(person_path):\n",
    "        continue \n",
    "\n",
    "    # Tạo thư mục output  nếu chưa tồn tại\n",
    "    save_path = os.path.join(output_dir, person_name)\n",
    "    os.makedirs(save_path, exist_ok=True)\n",
    "\n",
    "    # Duyệt qua các ảnh \n",
    "    for img_name in os.listdir(person_path):\n",
    "        img_path = os.path.join(person_path, img_name)\n",
    "        image = cv2.imread(img_path)\n",
    "        if image is None:\n",
    "            print(f\"Lỗi đọc ảnh: {img_path}\")\n",
    "            continue\n",
    "\n",
    "        # Dự đoán khuôn mặt\n",
    "        results = model.predict(source=image, conf=0.3, verbose=False)\n",
    "\n",
    "        for result in results:\n",
    "            for i, box in enumerate(result.boxes):\n",
    "                x1, y1, x2, y2 = map(int, box.xyxy[0])\n",
    "                # Crop khuôn mặt\n",
    "                face = image[y1:y2, x1:x2]\n",
    "                # Lưu khuôn mặt\n",
    "                face_filename = f\"{os.path.splitext(img_name)[0]}_{i}.jpg\"\n",
    "                face_output_path = os.path.join(save_path, face_filename)\n",
    "                cv2.imwrite(face_output_path, face)\n",
    "                print(f\"✅ Lưu: {face_output_path}\")\n"
   ]
  }
 ],
 "metadata": {
  "kernelspec": {
   "display_name": "Python 3",
   "language": "python",
   "name": "python3"
  },
  "language_info": {
   "codemirror_mode": {
    "name": "ipython",
    "version": 3
   },
   "file_extension": ".py",
   "mimetype": "text/x-python",
   "name": "python",
   "nbconvert_exporter": "python",
   "pygments_lexer": "ipython3",
   "version": "3.10.9"
  }
 },
 "nbformat": 4,
 "nbformat_minor": 5
}
